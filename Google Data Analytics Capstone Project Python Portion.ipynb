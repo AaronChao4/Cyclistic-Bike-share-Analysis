{
 "cells": [
  {
   "cell_type": "markdown",
   "id": "fc6368bd",
   "metadata": {},
   "source": [
    "# Case Study: How Does a Bike-Share Navigate Speedy Success?"
   ]
  },
  {
   "cell_type": "markdown",
   "id": "376700ab",
   "metadata": {},
   "source": [
    "## Introduction\n"
   ]
  },
  {
   "cell_type": "markdown",
   "id": "fc9e2450",
   "metadata": {},
   "source": [
    "   This is a capstone project for the Google Data Analytics Professional Certificate. This program, offered by Coursera, serves as preparation for aspiring data analysts to start their career by learning key data analysis skills such as preparing, cleaning, and analyzing data; creating visualizations; and using tools such as SQL, Excel, Tableau, and R.\n",
    "   \n",
    "   Suppose we are a junior data analyst working for Cyclistic, a bike-share\n",
    "company. We are assigned to work with the Cyclistic market analyst team. Our manager believes that to grow the company, we should maximize the number of annual members by converting casual riders into members. The task is\n",
    "to understand how casual riders and annual members use Cyclistic bikes differently. We want to develop a marketing strategy to convert casual riders into annual members. In order to do this, we need to analyze the Cyclistic historical bike trip data to identify trends. This dataset is offered by the Coursera course.\n",
    "   \n",
    "   To answer the business questions, we will follow the steps of the data analysis process: ask, prepare, process, analyze, share, and act."
   ]
  },
  {
   "cell_type": "markdown",
   "id": "b9fb4b5a",
   "metadata": {},
   "source": [
    "## About the company"
   ]
  },
  {
   "cell_type": "markdown",
   "id": "60491a3e",
   "metadata": {},
   "source": [
    "In 2016, Cyclistic launched a successful bike-share offering. Since then, the program has grown to a fleet of 5,824 bicycles that are geotracked and locked into a network of 692 stations across Chicago. The bikes can be unlocked from one station and returned to any other station in the system anytime.\n",
    "\n",
    "Until now, Cyclistic’s marketing strategy relied on building general awareness and appealing to broad consumer segments. One approach that helped make these things possible was the flexibility of its pricing plans: single-ride passes, full-day passes, and annual memberships. Customers who purchase single-ride or full-day passes are referred to as casual riders. Customers who purchase annual memberships are Cyclistic members."
   ]
  },
  {
   "cell_type": "markdown",
   "id": "1dc37b29",
   "metadata": {},
   "source": [
    "## Ask"
   ]
  },
  {
   "cell_type": "markdown",
   "id": "13862714",
   "metadata": {},
   "source": [
    "Three questions will guide the future marketing program:\n",
    "\n",
    "1.\n",
    "How do annual members and casual riders use Cyclistic bikes differently?\n",
    "\n",
    "2.\n",
    "Why would casual riders buy Cyclistic annual memberships?\n",
    "\n",
    "3.\n",
    "How can Cyclistic use digital media to influence casual riders to become members?"
   ]
  },
  {
   "cell_type": "markdown",
   "id": "fb92c8b0",
   "metadata": {},
   "source": [
    "The problem we are trying to solve is trying to maximize the number of annual members. We will be analyzing trends to learn about how casual riders and annual members use Cyclistic bikes differently. Our analysis will be shared with our manager and Cyclistic marketing analytics team, which will be passed on to the Cyclistic executive team to decide whether to approve the recommended marketing program."
   ]
  },
  {
   "cell_type": "markdown",
   "id": "88c2f74c",
   "metadata": {},
   "source": [
    "## Prepare"
   ]
  },
  {
   "cell_type": "markdown",
   "id": "1a4142f1",
   "metadata": {},
   "source": [
    "We will use Cyclistic's historical trip data to analyze and identify trends. This dataset has been made available by Motivate International Inc. under this license https://ride.divvybikes.com/data-license-agreement. "
   ]
  },
  {
   "cell_type": "code",
   "execution_count": 5,
   "id": "cc128e2d",
   "metadata": {},
   "outputs": [],
   "source": [
    "import pandas as pd\n",
    "import datetime"
   ]
  },
  {
   "cell_type": "markdown",
   "id": "d577fc1c",
   "metadata": {},
   "source": [
    "We'll first read the data we obtained from the website."
   ]
  },
  {
   "cell_type": "code",
   "execution_count": 6,
   "id": "4eb5d7c0",
   "metadata": {},
   "outputs": [],
   "source": [
    "december21 = pd.read_csv(\"202112-divvy-tripdata.csv\")"
   ]
  },
  {
   "cell_type": "code",
   "execution_count": 7,
   "id": "ee9172e9",
   "metadata": {},
   "outputs": [],
   "source": [
    "january22 = pd.read_csv(\"202201-divvy-tripdata.csv\")"
   ]
  },
  {
   "cell_type": "code",
   "execution_count": 8,
   "id": "65ead93e",
   "metadata": {},
   "outputs": [],
   "source": [
    "february22 = pd.read_csv(\"202202-divvy-tripdata.csv\")"
   ]
  },
  {
   "cell_type": "code",
   "execution_count": 9,
   "id": "4e6e59e9",
   "metadata": {},
   "outputs": [],
   "source": [
    "march22 = pd.read_csv(\"202203-divvy-tripdata.csv\")"
   ]
  },
  {
   "cell_type": "code",
   "execution_count": 10,
   "id": "84eb44e9",
   "metadata": {},
   "outputs": [],
   "source": [
    "april22 = pd.read_csv(\"202204-divvy-tripdata.csv\")"
   ]
  },
  {
   "cell_type": "code",
   "execution_count": 11,
   "id": "003d05e4",
   "metadata": {},
   "outputs": [],
   "source": [
    "may22 = pd.read_csv(\"202205-divvy-tripdata.csv\")"
   ]
  },
  {
   "cell_type": "code",
   "execution_count": 12,
   "id": "a92c0d36",
   "metadata": {},
   "outputs": [],
   "source": [
    "june22 = pd.read_csv(\"202206-divvy-tripdata.csv\")"
   ]
  },
  {
   "cell_type": "code",
   "execution_count": 13,
   "id": "801b1d75",
   "metadata": {},
   "outputs": [],
   "source": [
    "july22 = pd.read_csv(\"202207-divvy-tripdata.csv\")"
   ]
  },
  {
   "cell_type": "code",
   "execution_count": 14,
   "id": "e59cb375",
   "metadata": {},
   "outputs": [],
   "source": [
    "august22 = pd.read_csv(\"202208-divvy-tripdata.csv\")"
   ]
  },
  {
   "cell_type": "code",
   "execution_count": 15,
   "id": "849aa4e2",
   "metadata": {},
   "outputs": [],
   "source": [
    "september22 = pd.read_csv(\"202209-divvy-publictripdata.csv\")"
   ]
  },
  {
   "cell_type": "code",
   "execution_count": 16,
   "id": "5daf1b04",
   "metadata": {},
   "outputs": [],
   "source": [
    "october22 = pd.read_csv(\"202210-divvy-tripdata.csv\")"
   ]
  },
  {
   "cell_type": "code",
   "execution_count": 17,
   "id": "b92e2ca4",
   "metadata": {},
   "outputs": [],
   "source": [
    "november22 = pd.read_csv(\"202211-divvy-tripdata.csv\")"
   ]
  },
  {
   "cell_type": "code",
   "execution_count": 18,
   "id": "5508dcfa",
   "metadata": {
    "scrolled": false
   },
   "outputs": [
    {
     "data": {
      "text/html": [
       "<div>\n",
       "<style scoped>\n",
       "    .dataframe tbody tr th:only-of-type {\n",
       "        vertical-align: middle;\n",
       "    }\n",
       "\n",
       "    .dataframe tbody tr th {\n",
       "        vertical-align: top;\n",
       "    }\n",
       "\n",
       "    .dataframe thead th {\n",
       "        text-align: right;\n",
       "    }\n",
       "</style>\n",
       "<table border=\"1\" class=\"dataframe\">\n",
       "  <thead>\n",
       "    <tr style=\"text-align: right;\">\n",
       "      <th></th>\n",
       "      <th>ride_id</th>\n",
       "      <th>rideable_type</th>\n",
       "      <th>started_at</th>\n",
       "      <th>ended_at</th>\n",
       "      <th>start_station_name</th>\n",
       "      <th>start_station_id</th>\n",
       "      <th>end_station_name</th>\n",
       "      <th>end_station_id</th>\n",
       "      <th>start_lat</th>\n",
       "      <th>start_lng</th>\n",
       "      <th>end_lat</th>\n",
       "      <th>end_lng</th>\n",
       "      <th>member_casual</th>\n",
       "    </tr>\n",
       "  </thead>\n",
       "  <tbody>\n",
       "    <tr>\n",
       "      <th>0</th>\n",
       "      <td>46F8167220E4431F</td>\n",
       "      <td>electric_bike</td>\n",
       "      <td>2021-12-07 15:06:07</td>\n",
       "      <td>2021-12-07 15:13:42</td>\n",
       "      <td>Laflin St &amp; Cullerton St</td>\n",
       "      <td>13307</td>\n",
       "      <td>Morgan St &amp; Polk St</td>\n",
       "      <td>TA1307000130</td>\n",
       "      <td>41.854833</td>\n",
       "      <td>-87.663660</td>\n",
       "      <td>41.871969</td>\n",
       "      <td>-87.650965</td>\n",
       "      <td>member</td>\n",
       "    </tr>\n",
       "    <tr>\n",
       "      <th>1</th>\n",
       "      <td>73A77762838B32FD</td>\n",
       "      <td>electric_bike</td>\n",
       "      <td>2021-12-11 03:43:29</td>\n",
       "      <td>2021-12-11 04:10:23</td>\n",
       "      <td>LaSalle Dr &amp; Huron St</td>\n",
       "      <td>KP1705001026</td>\n",
       "      <td>Clarendon Ave &amp; Leland Ave</td>\n",
       "      <td>TA1307000119</td>\n",
       "      <td>41.894405</td>\n",
       "      <td>-87.632331</td>\n",
       "      <td>41.967968</td>\n",
       "      <td>-87.650001</td>\n",
       "      <td>casual</td>\n",
       "    </tr>\n",
       "    <tr>\n",
       "      <th>2</th>\n",
       "      <td>4CF42452054F59C5</td>\n",
       "      <td>electric_bike</td>\n",
       "      <td>2021-12-15 23:10:28</td>\n",
       "      <td>2021-12-15 23:23:14</td>\n",
       "      <td>Halsted St &amp; North Branch St</td>\n",
       "      <td>KA1504000117</td>\n",
       "      <td>Broadway &amp; Barry Ave</td>\n",
       "      <td>13137</td>\n",
       "      <td>41.899357</td>\n",
       "      <td>-87.648522</td>\n",
       "      <td>41.937582</td>\n",
       "      <td>-87.644098</td>\n",
       "      <td>member</td>\n",
       "    </tr>\n",
       "    <tr>\n",
       "      <th>3</th>\n",
       "      <td>3278BA87BF698339</td>\n",
       "      <td>classic_bike</td>\n",
       "      <td>2021-12-26 16:16:10</td>\n",
       "      <td>2021-12-26 16:30:53</td>\n",
       "      <td>Halsted St &amp; North Branch St</td>\n",
       "      <td>KA1504000117</td>\n",
       "      <td>LaSalle Dr &amp; Huron St</td>\n",
       "      <td>KP1705001026</td>\n",
       "      <td>41.899390</td>\n",
       "      <td>-87.648545</td>\n",
       "      <td>41.894877</td>\n",
       "      <td>-87.632326</td>\n",
       "      <td>member</td>\n",
       "    </tr>\n",
       "    <tr>\n",
       "      <th>4</th>\n",
       "      <td>6FF54232576A3B73</td>\n",
       "      <td>electric_bike</td>\n",
       "      <td>2021-12-30 11:31:05</td>\n",
       "      <td>2021-12-30 11:51:21</td>\n",
       "      <td>Leavitt St &amp; Chicago Ave</td>\n",
       "      <td>18058</td>\n",
       "      <td>Clark St &amp; Drummond Pl</td>\n",
       "      <td>TA1307000142</td>\n",
       "      <td>41.895579</td>\n",
       "      <td>-87.682024</td>\n",
       "      <td>41.931248</td>\n",
       "      <td>-87.644336</td>\n",
       "      <td>member</td>\n",
       "    </tr>\n",
       "  </tbody>\n",
       "</table>\n",
       "</div>"
      ],
      "text/plain": [
       "            ride_id  rideable_type           started_at             ended_at  \\\n",
       "0  46F8167220E4431F  electric_bike  2021-12-07 15:06:07  2021-12-07 15:13:42   \n",
       "1  73A77762838B32FD  electric_bike  2021-12-11 03:43:29  2021-12-11 04:10:23   \n",
       "2  4CF42452054F59C5  electric_bike  2021-12-15 23:10:28  2021-12-15 23:23:14   \n",
       "3  3278BA87BF698339   classic_bike  2021-12-26 16:16:10  2021-12-26 16:30:53   \n",
       "4  6FF54232576A3B73  electric_bike  2021-12-30 11:31:05  2021-12-30 11:51:21   \n",
       "\n",
       "             start_station_name start_station_id            end_station_name  \\\n",
       "0      Laflin St & Cullerton St            13307         Morgan St & Polk St   \n",
       "1         LaSalle Dr & Huron St     KP1705001026  Clarendon Ave & Leland Ave   \n",
       "2  Halsted St & North Branch St     KA1504000117        Broadway & Barry Ave   \n",
       "3  Halsted St & North Branch St     KA1504000117       LaSalle Dr & Huron St   \n",
       "4      Leavitt St & Chicago Ave            18058      Clark St & Drummond Pl   \n",
       "\n",
       "  end_station_id  start_lat  start_lng    end_lat    end_lng member_casual  \n",
       "0   TA1307000130  41.854833 -87.663660  41.871969 -87.650965        member  \n",
       "1   TA1307000119  41.894405 -87.632331  41.967968 -87.650001        casual  \n",
       "2          13137  41.899357 -87.648522  41.937582 -87.644098        member  \n",
       "3   KP1705001026  41.899390 -87.648545  41.894877 -87.632326        member  \n",
       "4   TA1307000142  41.895579 -87.682024  41.931248 -87.644336        member  "
      ]
     },
     "execution_count": 18,
     "metadata": {},
     "output_type": "execute_result"
    }
   ],
   "source": [
    "december21.head()"
   ]
  },
  {
   "cell_type": "markdown",
   "id": "cf2b2646",
   "metadata": {},
   "source": [
    "We'll start out by combining all the datasets into one big data frame."
   ]
  },
  {
   "cell_type": "code",
   "execution_count": 19,
   "id": "a196332d",
   "metadata": {
    "scrolled": true
   },
   "outputs": [],
   "source": [
    "bike_data = pd.concat(objs = [december21, january22, february22, march22, april22, may22, june22, july22, august22, september22,\n",
    "                             october22, november22])"
   ]
  },
  {
   "cell_type": "code",
   "execution_count": 20,
   "id": "a7e48725",
   "metadata": {
    "scrolled": false
   },
   "outputs": [
    {
     "data": {
      "text/html": [
       "<div>\n",
       "<style scoped>\n",
       "    .dataframe tbody tr th:only-of-type {\n",
       "        vertical-align: middle;\n",
       "    }\n",
       "\n",
       "    .dataframe tbody tr th {\n",
       "        vertical-align: top;\n",
       "    }\n",
       "\n",
       "    .dataframe thead th {\n",
       "        text-align: right;\n",
       "    }\n",
       "</style>\n",
       "<table border=\"1\" class=\"dataframe\">\n",
       "  <thead>\n",
       "    <tr style=\"text-align: right;\">\n",
       "      <th></th>\n",
       "      <th>ride_id</th>\n",
       "      <th>rideable_type</th>\n",
       "      <th>started_at</th>\n",
       "      <th>ended_at</th>\n",
       "      <th>start_station_name</th>\n",
       "      <th>start_station_id</th>\n",
       "      <th>end_station_name</th>\n",
       "      <th>end_station_id</th>\n",
       "      <th>start_lat</th>\n",
       "      <th>start_lng</th>\n",
       "      <th>end_lat</th>\n",
       "      <th>end_lng</th>\n",
       "      <th>member_casual</th>\n",
       "    </tr>\n",
       "  </thead>\n",
       "  <tbody>\n",
       "    <tr>\n",
       "      <th>0</th>\n",
       "      <td>46F8167220E4431F</td>\n",
       "      <td>electric_bike</td>\n",
       "      <td>2021-12-07 15:06:07</td>\n",
       "      <td>2021-12-07 15:13:42</td>\n",
       "      <td>Laflin St &amp; Cullerton St</td>\n",
       "      <td>13307</td>\n",
       "      <td>Morgan St &amp; Polk St</td>\n",
       "      <td>TA1307000130</td>\n",
       "      <td>41.854833</td>\n",
       "      <td>-87.663660</td>\n",
       "      <td>41.871969</td>\n",
       "      <td>-87.650965</td>\n",
       "      <td>member</td>\n",
       "    </tr>\n",
       "    <tr>\n",
       "      <th>1</th>\n",
       "      <td>73A77762838B32FD</td>\n",
       "      <td>electric_bike</td>\n",
       "      <td>2021-12-11 03:43:29</td>\n",
       "      <td>2021-12-11 04:10:23</td>\n",
       "      <td>LaSalle Dr &amp; Huron St</td>\n",
       "      <td>KP1705001026</td>\n",
       "      <td>Clarendon Ave &amp; Leland Ave</td>\n",
       "      <td>TA1307000119</td>\n",
       "      <td>41.894405</td>\n",
       "      <td>-87.632331</td>\n",
       "      <td>41.967968</td>\n",
       "      <td>-87.650001</td>\n",
       "      <td>casual</td>\n",
       "    </tr>\n",
       "    <tr>\n",
       "      <th>2</th>\n",
       "      <td>4CF42452054F59C5</td>\n",
       "      <td>electric_bike</td>\n",
       "      <td>2021-12-15 23:10:28</td>\n",
       "      <td>2021-12-15 23:23:14</td>\n",
       "      <td>Halsted St &amp; North Branch St</td>\n",
       "      <td>KA1504000117</td>\n",
       "      <td>Broadway &amp; Barry Ave</td>\n",
       "      <td>13137</td>\n",
       "      <td>41.899357</td>\n",
       "      <td>-87.648522</td>\n",
       "      <td>41.937582</td>\n",
       "      <td>-87.644098</td>\n",
       "      <td>member</td>\n",
       "    </tr>\n",
       "    <tr>\n",
       "      <th>3</th>\n",
       "      <td>3278BA87BF698339</td>\n",
       "      <td>classic_bike</td>\n",
       "      <td>2021-12-26 16:16:10</td>\n",
       "      <td>2021-12-26 16:30:53</td>\n",
       "      <td>Halsted St &amp; North Branch St</td>\n",
       "      <td>KA1504000117</td>\n",
       "      <td>LaSalle Dr &amp; Huron St</td>\n",
       "      <td>KP1705001026</td>\n",
       "      <td>41.899390</td>\n",
       "      <td>-87.648545</td>\n",
       "      <td>41.894877</td>\n",
       "      <td>-87.632326</td>\n",
       "      <td>member</td>\n",
       "    </tr>\n",
       "    <tr>\n",
       "      <th>4</th>\n",
       "      <td>6FF54232576A3B73</td>\n",
       "      <td>electric_bike</td>\n",
       "      <td>2021-12-30 11:31:05</td>\n",
       "      <td>2021-12-30 11:51:21</td>\n",
       "      <td>Leavitt St &amp; Chicago Ave</td>\n",
       "      <td>18058</td>\n",
       "      <td>Clark St &amp; Drummond Pl</td>\n",
       "      <td>TA1307000142</td>\n",
       "      <td>41.895579</td>\n",
       "      <td>-87.682024</td>\n",
       "      <td>41.931248</td>\n",
       "      <td>-87.644336</td>\n",
       "      <td>member</td>\n",
       "    </tr>\n",
       "  </tbody>\n",
       "</table>\n",
       "</div>"
      ],
      "text/plain": [
       "            ride_id  rideable_type           started_at             ended_at  \\\n",
       "0  46F8167220E4431F  electric_bike  2021-12-07 15:06:07  2021-12-07 15:13:42   \n",
       "1  73A77762838B32FD  electric_bike  2021-12-11 03:43:29  2021-12-11 04:10:23   \n",
       "2  4CF42452054F59C5  electric_bike  2021-12-15 23:10:28  2021-12-15 23:23:14   \n",
       "3  3278BA87BF698339   classic_bike  2021-12-26 16:16:10  2021-12-26 16:30:53   \n",
       "4  6FF54232576A3B73  electric_bike  2021-12-30 11:31:05  2021-12-30 11:51:21   \n",
       "\n",
       "             start_station_name start_station_id            end_station_name  \\\n",
       "0      Laflin St & Cullerton St            13307         Morgan St & Polk St   \n",
       "1         LaSalle Dr & Huron St     KP1705001026  Clarendon Ave & Leland Ave   \n",
       "2  Halsted St & North Branch St     KA1504000117        Broadway & Barry Ave   \n",
       "3  Halsted St & North Branch St     KA1504000117       LaSalle Dr & Huron St   \n",
       "4      Leavitt St & Chicago Ave            18058      Clark St & Drummond Pl   \n",
       "\n",
       "  end_station_id  start_lat  start_lng    end_lat    end_lng member_casual  \n",
       "0   TA1307000130  41.854833 -87.663660  41.871969 -87.650965        member  \n",
       "1   TA1307000119  41.894405 -87.632331  41.967968 -87.650001        casual  \n",
       "2          13137  41.899357 -87.648522  41.937582 -87.644098        member  \n",
       "3   KP1705001026  41.899390 -87.648545  41.894877 -87.632326        member  \n",
       "4   TA1307000142  41.895579 -87.682024  41.931248 -87.644336        member  "
      ]
     },
     "execution_count": 20,
     "metadata": {},
     "output_type": "execute_result"
    }
   ],
   "source": [
    "bike_data.head()"
   ]
  },
  {
   "cell_type": "markdown",
   "id": "c6650e03",
   "metadata": {},
   "source": [
    "The data contains the following columns:"
   ]
  },
  {
   "cell_type": "code",
   "execution_count": 21,
   "id": "419dd8b3",
   "metadata": {
    "scrolled": true
   },
   "outputs": [
    {
     "data": {
      "text/plain": [
       "Index(['ride_id', 'rideable_type', 'started_at', 'ended_at',\n",
       "       'start_station_name', 'start_station_id', 'end_station_name',\n",
       "       'end_station_id', 'start_lat', 'start_lng', 'end_lat', 'end_lng',\n",
       "       'member_casual'],\n",
       "      dtype='object')"
      ]
     },
     "execution_count": 21,
     "metadata": {},
     "output_type": "execute_result"
    }
   ],
   "source": [
    "bike_data.columns"
   ]
  },
  {
   "cell_type": "markdown",
   "id": "f9dbd7f6",
   "metadata": {},
   "source": [
    "We want to make sure that we combined the data correctly by checking if the combined data set has the correct number of rows."
   ]
  },
  {
   "cell_type": "code",
   "execution_count": 22,
   "id": "893d2237",
   "metadata": {
    "scrolled": false
   },
   "outputs": [
    {
     "data": {
      "text/plain": [
       "5733451"
      ]
     },
     "execution_count": 22,
     "metadata": {},
     "output_type": "execute_result"
    }
   ],
   "source": [
    "len(december21) + len(january22) + len(february22) + len(march22) + len(april22) + len(may22) + len(june22) + len(july22) + len(august22) + len(september22) + len(october22) + len(november22)"
   ]
  },
  {
   "cell_type": "code",
   "execution_count": 23,
   "id": "2d76a8e6",
   "metadata": {
    "scrolled": true
   },
   "outputs": [
    {
     "data": {
      "text/plain": [
       "5733451"
      ]
     },
     "execution_count": 23,
     "metadata": {},
     "output_type": "execute_result"
    }
   ],
   "source": [
    "len(bike_data)"
   ]
  },
  {
   "cell_type": "code",
   "execution_count": 24,
   "id": "c1651512",
   "metadata": {},
   "outputs": [
    {
     "name": "stdout",
     "output_type": "stream",
     "text": [
      "Notice that our dataset has 5733451 rows.\n"
     ]
    }
   ],
   "source": [
    "rows = len(bike_data)\n",
    "print(f\"Notice that our dataset has {rows} rows.\")"
   ]
  },
  {
   "cell_type": "markdown",
   "id": "149c195f",
   "metadata": {},
   "source": [
    "The data isn't sorted, so we'll sort by the column \"started_at\" in ascending order, meaning the time and date in which a trip has started."
   ]
  },
  {
   "cell_type": "code",
   "execution_count": 25,
   "id": "9d08d9a2",
   "metadata": {
    "scrolled": false
   },
   "outputs": [],
   "source": [
    "bike_data = bike_data.sort_values(by = \"started_at\")"
   ]
  },
  {
   "cell_type": "code",
   "execution_count": 26,
   "id": "49888e90",
   "metadata": {
    "scrolled": false
   },
   "outputs": [
    {
     "data": {
      "text/html": [
       "<div>\n",
       "<style scoped>\n",
       "    .dataframe tbody tr th:only-of-type {\n",
       "        vertical-align: middle;\n",
       "    }\n",
       "\n",
       "    .dataframe tbody tr th {\n",
       "        vertical-align: top;\n",
       "    }\n",
       "\n",
       "    .dataframe thead th {\n",
       "        text-align: right;\n",
       "    }\n",
       "</style>\n",
       "<table border=\"1\" class=\"dataframe\">\n",
       "  <thead>\n",
       "    <tr style=\"text-align: right;\">\n",
       "      <th></th>\n",
       "      <th>ride_id</th>\n",
       "      <th>rideable_type</th>\n",
       "      <th>started_at</th>\n",
       "      <th>ended_at</th>\n",
       "      <th>start_station_name</th>\n",
       "      <th>start_station_id</th>\n",
       "      <th>end_station_name</th>\n",
       "      <th>end_station_id</th>\n",
       "      <th>start_lat</th>\n",
       "      <th>start_lng</th>\n",
       "      <th>end_lat</th>\n",
       "      <th>end_lng</th>\n",
       "      <th>member_casual</th>\n",
       "    </tr>\n",
       "  </thead>\n",
       "  <tbody>\n",
       "    <tr>\n",
       "      <th>242975</th>\n",
       "      <td>937DC7C2109D635C</td>\n",
       "      <td>electric_bike</td>\n",
       "      <td>2021-12-01 00:00:01</td>\n",
       "      <td>2021-12-01 00:23:16</td>\n",
       "      <td>NaN</td>\n",
       "      <td>NaN</td>\n",
       "      <td>NaN</td>\n",
       "      <td>NaN</td>\n",
       "      <td>41.930000</td>\n",
       "      <td>-87.730000</td>\n",
       "      <td>41.880000</td>\n",
       "      <td>-87.710000</td>\n",
       "      <td>casual</td>\n",
       "    </tr>\n",
       "    <tr>\n",
       "      <th>182646</th>\n",
       "      <td>0CD83C3FE35E69A0</td>\n",
       "      <td>classic_bike</td>\n",
       "      <td>2021-12-01 00:00:03</td>\n",
       "      <td>2021-12-01 00:07:34</td>\n",
       "      <td>State St &amp; Kinzie St</td>\n",
       "      <td>13050</td>\n",
       "      <td>St. Clair St &amp; Erie St</td>\n",
       "      <td>13016</td>\n",
       "      <td>41.889187</td>\n",
       "      <td>-87.627754</td>\n",
       "      <td>41.894345</td>\n",
       "      <td>-87.622798</td>\n",
       "      <td>casual</td>\n",
       "    </tr>\n",
       "    <tr>\n",
       "      <th>116503</th>\n",
       "      <td>FC2D02B730EBC33D</td>\n",
       "      <td>electric_bike</td>\n",
       "      <td>2021-12-01 00:00:15</td>\n",
       "      <td>2021-12-01 00:02:40</td>\n",
       "      <td>Wells St &amp; Huron St</td>\n",
       "      <td>TA1306000012</td>\n",
       "      <td>NaN</td>\n",
       "      <td>NaN</td>\n",
       "      <td>41.894763</td>\n",
       "      <td>-87.634595</td>\n",
       "      <td>41.900000</td>\n",
       "      <td>-87.640000</td>\n",
       "      <td>member</td>\n",
       "    </tr>\n",
       "    <tr>\n",
       "      <th>229332</th>\n",
       "      <td>227558BB46C7DE48</td>\n",
       "      <td>electric_bike</td>\n",
       "      <td>2021-12-01 00:01:00</td>\n",
       "      <td>2021-12-01 00:05:29</td>\n",
       "      <td>NaN</td>\n",
       "      <td>NaN</td>\n",
       "      <td>NaN</td>\n",
       "      <td>NaN</td>\n",
       "      <td>41.790000</td>\n",
       "      <td>-87.600000</td>\n",
       "      <td>41.800000</td>\n",
       "      <td>-87.600000</td>\n",
       "      <td>member</td>\n",
       "    </tr>\n",
       "    <tr>\n",
       "      <th>73536</th>\n",
       "      <td>5CB387082B4310B2</td>\n",
       "      <td>classic_bike</td>\n",
       "      <td>2021-12-01 00:03:44</td>\n",
       "      <td>2021-12-01 00:07:44</td>\n",
       "      <td>Ellis Ave &amp; 60th St</td>\n",
       "      <td>KA1503000014</td>\n",
       "      <td>University Ave &amp; 57th St</td>\n",
       "      <td>KA1503000071</td>\n",
       "      <td>41.785097</td>\n",
       "      <td>-87.601073</td>\n",
       "      <td>41.791478</td>\n",
       "      <td>-87.599861</td>\n",
       "      <td>member</td>\n",
       "    </tr>\n",
       "    <tr>\n",
       "      <th>...</th>\n",
       "      <td>...</td>\n",
       "      <td>...</td>\n",
       "      <td>...</td>\n",
       "      <td>...</td>\n",
       "      <td>...</td>\n",
       "      <td>...</td>\n",
       "      <td>...</td>\n",
       "      <td>...</td>\n",
       "      <td>...</td>\n",
       "      <td>...</td>\n",
       "      <td>...</td>\n",
       "      <td>...</td>\n",
       "      <td>...</td>\n",
       "    </tr>\n",
       "    <tr>\n",
       "      <th>180458</th>\n",
       "      <td>CB5ECCA9D1567A45</td>\n",
       "      <td>electric_bike</td>\n",
       "      <td>2022-11-30 23:54:40</td>\n",
       "      <td>2022-11-30 23:58:59</td>\n",
       "      <td>State St &amp; Van Buren St</td>\n",
       "      <td>TA1305000035</td>\n",
       "      <td>Michigan Ave &amp; 14th St</td>\n",
       "      <td>TA1307000124</td>\n",
       "      <td>41.877238</td>\n",
       "      <td>-87.627823</td>\n",
       "      <td>41.864059</td>\n",
       "      <td>-87.623727</td>\n",
       "      <td>member</td>\n",
       "    </tr>\n",
       "    <tr>\n",
       "      <th>252640</th>\n",
       "      <td>DD58003A0A0C9FE4</td>\n",
       "      <td>electric_bike</td>\n",
       "      <td>2022-11-30 23:54:46</td>\n",
       "      <td>2022-11-30 23:59:23</td>\n",
       "      <td>NaN</td>\n",
       "      <td>NaN</td>\n",
       "      <td>NaN</td>\n",
       "      <td>NaN</td>\n",
       "      <td>41.980000</td>\n",
       "      <td>-87.660000</td>\n",
       "      <td>41.970000</td>\n",
       "      <td>-87.650000</td>\n",
       "      <td>member</td>\n",
       "    </tr>\n",
       "    <tr>\n",
       "      <th>177330</th>\n",
       "      <td>0A7F3F32FCC736D1</td>\n",
       "      <td>classic_bike</td>\n",
       "      <td>2022-11-30 23:55:02</td>\n",
       "      <td>2022-12-01 00:21:10</td>\n",
       "      <td>McClurg Ct &amp; Ohio St</td>\n",
       "      <td>TA1306000029</td>\n",
       "      <td>Sheffield Ave &amp; Fullerton Ave</td>\n",
       "      <td>TA1306000016</td>\n",
       "      <td>41.892592</td>\n",
       "      <td>-87.617289</td>\n",
       "      <td>41.925602</td>\n",
       "      <td>-87.653708</td>\n",
       "      <td>member</td>\n",
       "    </tr>\n",
       "    <tr>\n",
       "      <th>16514</th>\n",
       "      <td>C32D3E0585F38636</td>\n",
       "      <td>electric_bike</td>\n",
       "      <td>2022-11-30 23:55:28</td>\n",
       "      <td>2022-11-30 23:59:46</td>\n",
       "      <td>Broadway &amp; Cornelia Ave</td>\n",
       "      <td>13278</td>\n",
       "      <td>Clarendon Ave &amp; Gordon Ter</td>\n",
       "      <td>13379</td>\n",
       "      <td>41.945466</td>\n",
       "      <td>-87.646343</td>\n",
       "      <td>41.957867</td>\n",
       "      <td>-87.649505</td>\n",
       "      <td>member</td>\n",
       "    </tr>\n",
       "    <tr>\n",
       "      <th>337271</th>\n",
       "      <td>F6BE77C9DC9AB3BC</td>\n",
       "      <td>electric_bike</td>\n",
       "      <td>2022-11-30 23:56:11</td>\n",
       "      <td>2022-12-01 00:00:52</td>\n",
       "      <td>Clark St &amp; Winnemac Ave</td>\n",
       "      <td>TA1309000035</td>\n",
       "      <td>Broadway &amp; Ridge Ave</td>\n",
       "      <td>15578</td>\n",
       "      <td>41.973391</td>\n",
       "      <td>-87.667762</td>\n",
       "      <td>41.984045</td>\n",
       "      <td>-87.660274</td>\n",
       "      <td>casual</td>\n",
       "    </tr>\n",
       "  </tbody>\n",
       "</table>\n",
       "<p>5733451 rows × 13 columns</p>\n",
       "</div>"
      ],
      "text/plain": [
       "                 ride_id  rideable_type           started_at  \\\n",
       "242975  937DC7C2109D635C  electric_bike  2021-12-01 00:00:01   \n",
       "182646  0CD83C3FE35E69A0   classic_bike  2021-12-01 00:00:03   \n",
       "116503  FC2D02B730EBC33D  electric_bike  2021-12-01 00:00:15   \n",
       "229332  227558BB46C7DE48  electric_bike  2021-12-01 00:01:00   \n",
       "73536   5CB387082B4310B2   classic_bike  2021-12-01 00:03:44   \n",
       "...                  ...            ...                  ...   \n",
       "180458  CB5ECCA9D1567A45  electric_bike  2022-11-30 23:54:40   \n",
       "252640  DD58003A0A0C9FE4  electric_bike  2022-11-30 23:54:46   \n",
       "177330  0A7F3F32FCC736D1   classic_bike  2022-11-30 23:55:02   \n",
       "16514   C32D3E0585F38636  electric_bike  2022-11-30 23:55:28   \n",
       "337271  F6BE77C9DC9AB3BC  electric_bike  2022-11-30 23:56:11   \n",
       "\n",
       "                   ended_at       start_station_name start_station_id  \\\n",
       "242975  2021-12-01 00:23:16                      NaN              NaN   \n",
       "182646  2021-12-01 00:07:34     State St & Kinzie St            13050   \n",
       "116503  2021-12-01 00:02:40      Wells St & Huron St     TA1306000012   \n",
       "229332  2021-12-01 00:05:29                      NaN              NaN   \n",
       "73536   2021-12-01 00:07:44      Ellis Ave & 60th St     KA1503000014   \n",
       "...                     ...                      ...              ...   \n",
       "180458  2022-11-30 23:58:59  State St & Van Buren St     TA1305000035   \n",
       "252640  2022-11-30 23:59:23                      NaN              NaN   \n",
       "177330  2022-12-01 00:21:10     McClurg Ct & Ohio St     TA1306000029   \n",
       "16514   2022-11-30 23:59:46  Broadway & Cornelia Ave            13278   \n",
       "337271  2022-12-01 00:00:52  Clark St & Winnemac Ave     TA1309000035   \n",
       "\n",
       "                     end_station_name end_station_id  start_lat  start_lng  \\\n",
       "242975                            NaN            NaN  41.930000 -87.730000   \n",
       "182646         St. Clair St & Erie St          13016  41.889187 -87.627754   \n",
       "116503                            NaN            NaN  41.894763 -87.634595   \n",
       "229332                            NaN            NaN  41.790000 -87.600000   \n",
       "73536        University Ave & 57th St   KA1503000071  41.785097 -87.601073   \n",
       "...                               ...            ...        ...        ...   \n",
       "180458         Michigan Ave & 14th St   TA1307000124  41.877238 -87.627823   \n",
       "252640                            NaN            NaN  41.980000 -87.660000   \n",
       "177330  Sheffield Ave & Fullerton Ave   TA1306000016  41.892592 -87.617289   \n",
       "16514      Clarendon Ave & Gordon Ter          13379  41.945466 -87.646343   \n",
       "337271           Broadway & Ridge Ave          15578  41.973391 -87.667762   \n",
       "\n",
       "          end_lat    end_lng member_casual  \n",
       "242975  41.880000 -87.710000        casual  \n",
       "182646  41.894345 -87.622798        casual  \n",
       "116503  41.900000 -87.640000        member  \n",
       "229332  41.800000 -87.600000        member  \n",
       "73536   41.791478 -87.599861        member  \n",
       "...           ...        ...           ...  \n",
       "180458  41.864059 -87.623727        member  \n",
       "252640  41.970000 -87.650000        member  \n",
       "177330  41.925602 -87.653708        member  \n",
       "16514   41.957867 -87.649505        member  \n",
       "337271  41.984045 -87.660274        casual  \n",
       "\n",
       "[5733451 rows x 13 columns]"
      ]
     },
     "execution_count": 26,
     "metadata": {},
     "output_type": "execute_result"
    }
   ],
   "source": [
    "bike_data"
   ]
  },
  {
   "cell_type": "markdown",
   "id": "0239e702",
   "metadata": {},
   "source": [
    "Let's inspect the datatype of each column."
   ]
  },
  {
   "cell_type": "code",
   "execution_count": 27,
   "id": "eed64dbd",
   "metadata": {},
   "outputs": [
    {
     "data": {
      "text/plain": [
       "ride_id                object\n",
       "rideable_type          object\n",
       "started_at             object\n",
       "ended_at               object\n",
       "start_station_name     object\n",
       "start_station_id       object\n",
       "end_station_name       object\n",
       "end_station_id         object\n",
       "start_lat             float64\n",
       "start_lng             float64\n",
       "end_lat               float64\n",
       "end_lng               float64\n",
       "member_casual          object\n",
       "dtype: object"
      ]
     },
     "execution_count": 27,
     "metadata": {},
     "output_type": "execute_result"
    }
   ],
   "source": [
    "bike_data.dtypes"
   ]
  },
  {
   "cell_type": "markdown",
   "id": "112ebcf9",
   "metadata": {},
   "source": [
    "We need to convert the \"started_at\" and \"ended_at\" columns into date and time values."
   ]
  },
  {
   "cell_type": "code",
   "execution_count": 28,
   "id": "0ab08c6d",
   "metadata": {},
   "outputs": [],
   "source": [
    "bike_data[[\"started_at\", \"ended_at\"]] = bike_data[[\"started_at\", \"ended_at\"]].astype(\"datetime64\")"
   ]
  },
  {
   "cell_type": "code",
   "execution_count": 29,
   "id": "5b442e5d",
   "metadata": {},
   "outputs": [
    {
     "data": {
      "text/plain": [
       "ride_id                       object\n",
       "rideable_type                 object\n",
       "started_at            datetime64[ns]\n",
       "ended_at              datetime64[ns]\n",
       "start_station_name            object\n",
       "start_station_id              object\n",
       "end_station_name              object\n",
       "end_station_id                object\n",
       "start_lat                    float64\n",
       "start_lng                    float64\n",
       "end_lat                      float64\n",
       "end_lng                      float64\n",
       "member_casual                 object\n",
       "dtype: object"
      ]
     },
     "execution_count": 29,
     "metadata": {},
     "output_type": "execute_result"
    }
   ],
   "source": [
    "bike_data.dtypes"
   ]
  },
  {
   "cell_type": "code",
   "execution_count": 30,
   "id": "0c085bb0",
   "metadata": {
    "scrolled": true
   },
   "outputs": [
    {
     "data": {
      "text/html": [
       "<div>\n",
       "<style scoped>\n",
       "    .dataframe tbody tr th:only-of-type {\n",
       "        vertical-align: middle;\n",
       "    }\n",
       "\n",
       "    .dataframe tbody tr th {\n",
       "        vertical-align: top;\n",
       "    }\n",
       "\n",
       "    .dataframe thead th {\n",
       "        text-align: right;\n",
       "    }\n",
       "</style>\n",
       "<table border=\"1\" class=\"dataframe\">\n",
       "  <thead>\n",
       "    <tr style=\"text-align: right;\">\n",
       "      <th></th>\n",
       "      <th>ride_id</th>\n",
       "      <th>rideable_type</th>\n",
       "      <th>started_at</th>\n",
       "      <th>ended_at</th>\n",
       "      <th>start_station_name</th>\n",
       "      <th>start_station_id</th>\n",
       "      <th>end_station_name</th>\n",
       "      <th>end_station_id</th>\n",
       "      <th>start_lat</th>\n",
       "      <th>start_lng</th>\n",
       "      <th>end_lat</th>\n",
       "      <th>end_lng</th>\n",
       "      <th>member_casual</th>\n",
       "    </tr>\n",
       "  </thead>\n",
       "  <tbody>\n",
       "    <tr>\n",
       "      <th>242975</th>\n",
       "      <td>937DC7C2109D635C</td>\n",
       "      <td>electric_bike</td>\n",
       "      <td>2021-12-01 00:00:01</td>\n",
       "      <td>2021-12-01 00:23:16</td>\n",
       "      <td>NaN</td>\n",
       "      <td>NaN</td>\n",
       "      <td>NaN</td>\n",
       "      <td>NaN</td>\n",
       "      <td>41.930000</td>\n",
       "      <td>-87.730000</td>\n",
       "      <td>41.880000</td>\n",
       "      <td>-87.710000</td>\n",
       "      <td>casual</td>\n",
       "    </tr>\n",
       "    <tr>\n",
       "      <th>182646</th>\n",
       "      <td>0CD83C3FE35E69A0</td>\n",
       "      <td>classic_bike</td>\n",
       "      <td>2021-12-01 00:00:03</td>\n",
       "      <td>2021-12-01 00:07:34</td>\n",
       "      <td>State St &amp; Kinzie St</td>\n",
       "      <td>13050</td>\n",
       "      <td>St. Clair St &amp; Erie St</td>\n",
       "      <td>13016</td>\n",
       "      <td>41.889187</td>\n",
       "      <td>-87.627754</td>\n",
       "      <td>41.894345</td>\n",
       "      <td>-87.622798</td>\n",
       "      <td>casual</td>\n",
       "    </tr>\n",
       "    <tr>\n",
       "      <th>116503</th>\n",
       "      <td>FC2D02B730EBC33D</td>\n",
       "      <td>electric_bike</td>\n",
       "      <td>2021-12-01 00:00:15</td>\n",
       "      <td>2021-12-01 00:02:40</td>\n",
       "      <td>Wells St &amp; Huron St</td>\n",
       "      <td>TA1306000012</td>\n",
       "      <td>NaN</td>\n",
       "      <td>NaN</td>\n",
       "      <td>41.894763</td>\n",
       "      <td>-87.634595</td>\n",
       "      <td>41.900000</td>\n",
       "      <td>-87.640000</td>\n",
       "      <td>member</td>\n",
       "    </tr>\n",
       "    <tr>\n",
       "      <th>229332</th>\n",
       "      <td>227558BB46C7DE48</td>\n",
       "      <td>electric_bike</td>\n",
       "      <td>2021-12-01 00:01:00</td>\n",
       "      <td>2021-12-01 00:05:29</td>\n",
       "      <td>NaN</td>\n",
       "      <td>NaN</td>\n",
       "      <td>NaN</td>\n",
       "      <td>NaN</td>\n",
       "      <td>41.790000</td>\n",
       "      <td>-87.600000</td>\n",
       "      <td>41.800000</td>\n",
       "      <td>-87.600000</td>\n",
       "      <td>member</td>\n",
       "    </tr>\n",
       "    <tr>\n",
       "      <th>73536</th>\n",
       "      <td>5CB387082B4310B2</td>\n",
       "      <td>classic_bike</td>\n",
       "      <td>2021-12-01 00:03:44</td>\n",
       "      <td>2021-12-01 00:07:44</td>\n",
       "      <td>Ellis Ave &amp; 60th St</td>\n",
       "      <td>KA1503000014</td>\n",
       "      <td>University Ave &amp; 57th St</td>\n",
       "      <td>KA1503000071</td>\n",
       "      <td>41.785097</td>\n",
       "      <td>-87.601073</td>\n",
       "      <td>41.791478</td>\n",
       "      <td>-87.599861</td>\n",
       "      <td>member</td>\n",
       "    </tr>\n",
       "    <tr>\n",
       "      <th>...</th>\n",
       "      <td>...</td>\n",
       "      <td>...</td>\n",
       "      <td>...</td>\n",
       "      <td>...</td>\n",
       "      <td>...</td>\n",
       "      <td>...</td>\n",
       "      <td>...</td>\n",
       "      <td>...</td>\n",
       "      <td>...</td>\n",
       "      <td>...</td>\n",
       "      <td>...</td>\n",
       "      <td>...</td>\n",
       "      <td>...</td>\n",
       "    </tr>\n",
       "    <tr>\n",
       "      <th>180458</th>\n",
       "      <td>CB5ECCA9D1567A45</td>\n",
       "      <td>electric_bike</td>\n",
       "      <td>2022-11-30 23:54:40</td>\n",
       "      <td>2022-11-30 23:58:59</td>\n",
       "      <td>State St &amp; Van Buren St</td>\n",
       "      <td>TA1305000035</td>\n",
       "      <td>Michigan Ave &amp; 14th St</td>\n",
       "      <td>TA1307000124</td>\n",
       "      <td>41.877238</td>\n",
       "      <td>-87.627823</td>\n",
       "      <td>41.864059</td>\n",
       "      <td>-87.623727</td>\n",
       "      <td>member</td>\n",
       "    </tr>\n",
       "    <tr>\n",
       "      <th>252640</th>\n",
       "      <td>DD58003A0A0C9FE4</td>\n",
       "      <td>electric_bike</td>\n",
       "      <td>2022-11-30 23:54:46</td>\n",
       "      <td>2022-11-30 23:59:23</td>\n",
       "      <td>NaN</td>\n",
       "      <td>NaN</td>\n",
       "      <td>NaN</td>\n",
       "      <td>NaN</td>\n",
       "      <td>41.980000</td>\n",
       "      <td>-87.660000</td>\n",
       "      <td>41.970000</td>\n",
       "      <td>-87.650000</td>\n",
       "      <td>member</td>\n",
       "    </tr>\n",
       "    <tr>\n",
       "      <th>177330</th>\n",
       "      <td>0A7F3F32FCC736D1</td>\n",
       "      <td>classic_bike</td>\n",
       "      <td>2022-11-30 23:55:02</td>\n",
       "      <td>2022-12-01 00:21:10</td>\n",
       "      <td>McClurg Ct &amp; Ohio St</td>\n",
       "      <td>TA1306000029</td>\n",
       "      <td>Sheffield Ave &amp; Fullerton Ave</td>\n",
       "      <td>TA1306000016</td>\n",
       "      <td>41.892592</td>\n",
       "      <td>-87.617289</td>\n",
       "      <td>41.925602</td>\n",
       "      <td>-87.653708</td>\n",
       "      <td>member</td>\n",
       "    </tr>\n",
       "    <tr>\n",
       "      <th>16514</th>\n",
       "      <td>C32D3E0585F38636</td>\n",
       "      <td>electric_bike</td>\n",
       "      <td>2022-11-30 23:55:28</td>\n",
       "      <td>2022-11-30 23:59:46</td>\n",
       "      <td>Broadway &amp; Cornelia Ave</td>\n",
       "      <td>13278</td>\n",
       "      <td>Clarendon Ave &amp; Gordon Ter</td>\n",
       "      <td>13379</td>\n",
       "      <td>41.945466</td>\n",
       "      <td>-87.646343</td>\n",
       "      <td>41.957867</td>\n",
       "      <td>-87.649505</td>\n",
       "      <td>member</td>\n",
       "    </tr>\n",
       "    <tr>\n",
       "      <th>337271</th>\n",
       "      <td>F6BE77C9DC9AB3BC</td>\n",
       "      <td>electric_bike</td>\n",
       "      <td>2022-11-30 23:56:11</td>\n",
       "      <td>2022-12-01 00:00:52</td>\n",
       "      <td>Clark St &amp; Winnemac Ave</td>\n",
       "      <td>TA1309000035</td>\n",
       "      <td>Broadway &amp; Ridge Ave</td>\n",
       "      <td>15578</td>\n",
       "      <td>41.973391</td>\n",
       "      <td>-87.667762</td>\n",
       "      <td>41.984045</td>\n",
       "      <td>-87.660274</td>\n",
       "      <td>casual</td>\n",
       "    </tr>\n",
       "  </tbody>\n",
       "</table>\n",
       "<p>5733451 rows × 13 columns</p>\n",
       "</div>"
      ],
      "text/plain": [
       "                 ride_id  rideable_type          started_at  \\\n",
       "242975  937DC7C2109D635C  electric_bike 2021-12-01 00:00:01   \n",
       "182646  0CD83C3FE35E69A0   classic_bike 2021-12-01 00:00:03   \n",
       "116503  FC2D02B730EBC33D  electric_bike 2021-12-01 00:00:15   \n",
       "229332  227558BB46C7DE48  electric_bike 2021-12-01 00:01:00   \n",
       "73536   5CB387082B4310B2   classic_bike 2021-12-01 00:03:44   \n",
       "...                  ...            ...                 ...   \n",
       "180458  CB5ECCA9D1567A45  electric_bike 2022-11-30 23:54:40   \n",
       "252640  DD58003A0A0C9FE4  electric_bike 2022-11-30 23:54:46   \n",
       "177330  0A7F3F32FCC736D1   classic_bike 2022-11-30 23:55:02   \n",
       "16514   C32D3E0585F38636  electric_bike 2022-11-30 23:55:28   \n",
       "337271  F6BE77C9DC9AB3BC  electric_bike 2022-11-30 23:56:11   \n",
       "\n",
       "                  ended_at       start_station_name start_station_id  \\\n",
       "242975 2021-12-01 00:23:16                      NaN              NaN   \n",
       "182646 2021-12-01 00:07:34     State St & Kinzie St            13050   \n",
       "116503 2021-12-01 00:02:40      Wells St & Huron St     TA1306000012   \n",
       "229332 2021-12-01 00:05:29                      NaN              NaN   \n",
       "73536  2021-12-01 00:07:44      Ellis Ave & 60th St     KA1503000014   \n",
       "...                    ...                      ...              ...   \n",
       "180458 2022-11-30 23:58:59  State St & Van Buren St     TA1305000035   \n",
       "252640 2022-11-30 23:59:23                      NaN              NaN   \n",
       "177330 2022-12-01 00:21:10     McClurg Ct & Ohio St     TA1306000029   \n",
       "16514  2022-11-30 23:59:46  Broadway & Cornelia Ave            13278   \n",
       "337271 2022-12-01 00:00:52  Clark St & Winnemac Ave     TA1309000035   \n",
       "\n",
       "                     end_station_name end_station_id  start_lat  start_lng  \\\n",
       "242975                            NaN            NaN  41.930000 -87.730000   \n",
       "182646         St. Clair St & Erie St          13016  41.889187 -87.627754   \n",
       "116503                            NaN            NaN  41.894763 -87.634595   \n",
       "229332                            NaN            NaN  41.790000 -87.600000   \n",
       "73536        University Ave & 57th St   KA1503000071  41.785097 -87.601073   \n",
       "...                               ...            ...        ...        ...   \n",
       "180458         Michigan Ave & 14th St   TA1307000124  41.877238 -87.627823   \n",
       "252640                            NaN            NaN  41.980000 -87.660000   \n",
       "177330  Sheffield Ave & Fullerton Ave   TA1306000016  41.892592 -87.617289   \n",
       "16514      Clarendon Ave & Gordon Ter          13379  41.945466 -87.646343   \n",
       "337271           Broadway & Ridge Ave          15578  41.973391 -87.667762   \n",
       "\n",
       "          end_lat    end_lng member_casual  \n",
       "242975  41.880000 -87.710000        casual  \n",
       "182646  41.894345 -87.622798        casual  \n",
       "116503  41.900000 -87.640000        member  \n",
       "229332  41.800000 -87.600000        member  \n",
       "73536   41.791478 -87.599861        member  \n",
       "...           ...        ...           ...  \n",
       "180458  41.864059 -87.623727        member  \n",
       "252640  41.970000 -87.650000        member  \n",
       "177330  41.925602 -87.653708        member  \n",
       "16514   41.957867 -87.649505        member  \n",
       "337271  41.984045 -87.660274        casual  \n",
       "\n",
       "[5733451 rows x 13 columns]"
      ]
     },
     "execution_count": 30,
     "metadata": {},
     "output_type": "execute_result"
    }
   ],
   "source": [
    "bike_data.sort_values(by = \"started_at\")"
   ]
  },
  {
   "cell_type": "markdown",
   "id": "952f328f",
   "metadata": {},
   "source": [
    "## Process"
   ]
  },
  {
   "cell_type": "markdown",
   "id": "f4eb7267",
   "metadata": {},
   "source": [
    "### Cleaning the data"
   ]
  },
  {
   "cell_type": "markdown",
   "id": "f5b04d86",
   "metadata": {},
   "source": [
    "In the started_at column, we need to check for any NaN values, or incomplete values."
   ]
  },
  {
   "cell_type": "code",
   "execution_count": 31,
   "id": "3b9c821b",
   "metadata": {
    "scrolled": true
   },
   "outputs": [
    {
     "data": {
      "text/html": [
       "<div>\n",
       "<style scoped>\n",
       "    .dataframe tbody tr th:only-of-type {\n",
       "        vertical-align: middle;\n",
       "    }\n",
       "\n",
       "    .dataframe tbody tr th {\n",
       "        vertical-align: top;\n",
       "    }\n",
       "\n",
       "    .dataframe thead th {\n",
       "        text-align: right;\n",
       "    }\n",
       "</style>\n",
       "<table border=\"1\" class=\"dataframe\">\n",
       "  <thead>\n",
       "    <tr style=\"text-align: right;\">\n",
       "      <th></th>\n",
       "      <th>ride_id</th>\n",
       "      <th>rideable_type</th>\n",
       "      <th>started_at</th>\n",
       "      <th>ended_at</th>\n",
       "      <th>start_station_name</th>\n",
       "      <th>start_station_id</th>\n",
       "      <th>end_station_name</th>\n",
       "      <th>end_station_id</th>\n",
       "      <th>start_lat</th>\n",
       "      <th>start_lng</th>\n",
       "      <th>end_lat</th>\n",
       "      <th>end_lng</th>\n",
       "      <th>member_casual</th>\n",
       "    </tr>\n",
       "  </thead>\n",
       "  <tbody>\n",
       "  </tbody>\n",
       "</table>\n",
       "</div>"
      ],
      "text/plain": [
       "Empty DataFrame\n",
       "Columns: [ride_id, rideable_type, started_at, ended_at, start_station_name, start_station_id, end_station_name, end_station_id, start_lat, start_lng, end_lat, end_lng, member_casual]\n",
       "Index: []"
      ]
     },
     "execution_count": 31,
     "metadata": {},
     "output_type": "execute_result"
    }
   ],
   "source": [
    "bike_data[bike_data[\"started_at\"].isnull()]"
   ]
  },
  {
   "cell_type": "markdown",
   "id": "9696715f",
   "metadata": {},
   "source": [
    "There are no null values."
   ]
  },
  {
   "cell_type": "markdown",
   "id": "1f41c96d",
   "metadata": {},
   "source": [
    "### Find duplicated data"
   ]
  },
  {
   "cell_type": "markdown",
   "id": "839ec87d",
   "metadata": {},
   "source": [
    "Now we need to check to see if any rows are duplicates."
   ]
  },
  {
   "cell_type": "code",
   "execution_count": 32,
   "id": "00d1631e",
   "metadata": {},
   "outputs": [
    {
     "data": {
      "text/plain": [
       "0"
      ]
     },
     "execution_count": 32,
     "metadata": {},
     "output_type": "execute_result"
    }
   ],
   "source": [
    "bike_data[bike_data[\"ride_id\"].duplicated()].value_counts().count()"
   ]
  },
  {
   "cell_type": "markdown",
   "id": "e22f5de0",
   "metadata": {},
   "source": [
    "There are no rows with a duplicate ride id. Now we check for any duplicate rows."
   ]
  },
  {
   "cell_type": "code",
   "execution_count": 33,
   "id": "5f5d34a4",
   "metadata": {
    "scrolled": true
   },
   "outputs": [
    {
     "data": {
      "text/html": [
       "<div>\n",
       "<style scoped>\n",
       "    .dataframe tbody tr th:only-of-type {\n",
       "        vertical-align: middle;\n",
       "    }\n",
       "\n",
       "    .dataframe tbody tr th {\n",
       "        vertical-align: top;\n",
       "    }\n",
       "\n",
       "    .dataframe thead th {\n",
       "        text-align: right;\n",
       "    }\n",
       "</style>\n",
       "<table border=\"1\" class=\"dataframe\">\n",
       "  <thead>\n",
       "    <tr style=\"text-align: right;\">\n",
       "      <th></th>\n",
       "      <th>ride_id</th>\n",
       "      <th>rideable_type</th>\n",
       "      <th>started_at</th>\n",
       "      <th>ended_at</th>\n",
       "      <th>start_station_name</th>\n",
       "      <th>start_station_id</th>\n",
       "      <th>end_station_name</th>\n",
       "      <th>end_station_id</th>\n",
       "      <th>start_lat</th>\n",
       "      <th>start_lng</th>\n",
       "      <th>end_lat</th>\n",
       "      <th>end_lng</th>\n",
       "      <th>member_casual</th>\n",
       "    </tr>\n",
       "  </thead>\n",
       "  <tbody>\n",
       "  </tbody>\n",
       "</table>\n",
       "</div>"
      ],
      "text/plain": [
       "Empty DataFrame\n",
       "Columns: [ride_id, rideable_type, started_at, ended_at, start_station_name, start_station_id, end_station_name, end_station_id, start_lat, start_lng, end_lat, end_lng, member_casual]\n",
       "Index: []"
      ]
     },
     "execution_count": 33,
     "metadata": {},
     "output_type": "execute_result"
    }
   ],
   "source": [
    "bike_data[bike_data.duplicated()]"
   ]
  },
  {
   "cell_type": "markdown",
   "id": "77bfdac5",
   "metadata": {},
   "source": [
    "There are no duplicate rows."
   ]
  },
  {
   "cell_type": "markdown",
   "id": "c0c9f6cf",
   "metadata": {},
   "source": [
    "### Transforming the data"
   ]
  },
  {
   "cell_type": "markdown",
   "id": "241c1a02",
   "metadata": {},
   "source": [
    "Create a column called \"ride_length\" which calculates the ride length. To do this, we take the column \"ended_at\" and subtract it by the column \"ended_at\". Our first step in creating this column is to convert the \"started_at\" and \"ended_at\" columns to a time format so we can perform this calculation."
   ]
  },
  {
   "cell_type": "code",
   "execution_count": 34,
   "id": "79eb7ddc",
   "metadata": {},
   "outputs": [],
   "source": [
    "bike_data['started_at'] = pd.to_datetime(bike_data['started_at'], format=\"%Y/%m/%d, %H:%M:%S\")"
   ]
  },
  {
   "cell_type": "code",
   "execution_count": 35,
   "id": "4f7320c5",
   "metadata": {},
   "outputs": [],
   "source": [
    "bike_data['ended_at'] = pd.to_datetime(bike_data[\"ended_at\"], format = \"%Y/%m/%d, %H:%M:%S\")"
   ]
  },
  {
   "cell_type": "markdown",
   "id": "e03d9114",
   "metadata": {},
   "source": [
    "Now, perform the calculation."
   ]
  },
  {
   "cell_type": "code",
   "execution_count": 36,
   "id": "e745ac58",
   "metadata": {},
   "outputs": [
    {
     "data": {
      "text/plain": [
       "242975   0 days 00:23:15\n",
       "182646   0 days 00:07:31\n",
       "116503   0 days 00:02:25\n",
       "229332   0 days 00:04:29\n",
       "73536    0 days 00:04:00\n",
       "               ...      \n",
       "180458   0 days 00:04:19\n",
       "252640   0 days 00:04:37\n",
       "177330   0 days 00:26:08\n",
       "16514    0 days 00:04:18\n",
       "337271   0 days 00:04:41\n",
       "Length: 5733451, dtype: timedelta64[ns]"
      ]
     },
     "execution_count": 36,
     "metadata": {},
     "output_type": "execute_result"
    }
   ],
   "source": [
    "bike_data[\"ended_at\"] - bike_data[\"started_at\"]"
   ]
  },
  {
   "cell_type": "markdown",
   "id": "73e90aee",
   "metadata": {},
   "source": [
    "This is what we want, so we can now create a new column called \"ride_length\"."
   ]
  },
  {
   "cell_type": "code",
   "execution_count": 37,
   "id": "312b0465",
   "metadata": {},
   "outputs": [],
   "source": [
    "bike_data[\"ride_length\"] = bike_data[\"ended_at\"] - bike_data[\"started_at\"]"
   ]
  },
  {
   "cell_type": "markdown",
   "id": "7e1d94e0",
   "metadata": {},
   "source": [
    "Create a column called \"day_of_week\" to calculate the day of the week that each ride started."
   ]
  },
  {
   "cell_type": "code",
   "execution_count": 38,
   "id": "35f4bad5",
   "metadata": {},
   "outputs": [
    {
     "data": {
      "text/plain": [
       "417795   -8 days +19:26:39\n",
       "154251   -1 days +21:11:18\n",
       "585672   -1 days +21:42:35\n",
       "126109   -1 days +21:49:58\n",
       "301277   -1 days +21:50:55\n",
       "                ...       \n",
       "626805    23 days 18:08:49\n",
       "67464     23 days 20:34:04\n",
       "610068    24 days 21:00:38\n",
       "590027    25 days 04:17:48\n",
       "405002    28 days 17:47:15\n",
       "Name: ride_length, Length: 5733451, dtype: timedelta64[ns]"
      ]
     },
     "execution_count": 38,
     "metadata": {},
     "output_type": "execute_result"
    }
   ],
   "source": [
    "bike_data[\"ride_length\"].sort_values(ascending = True)"
   ]
  },
  {
   "cell_type": "markdown",
   "id": "0f2f133f",
   "metadata": {},
   "source": [
    "Convert the \"started_at\" column to a column which gives the day of the week."
   ]
  },
  {
   "cell_type": "code",
   "execution_count": 39,
   "id": "90d56566",
   "metadata": {},
   "outputs": [
    {
     "data": {
      "text/plain": [
       "242975    Wednesday\n",
       "182646    Wednesday\n",
       "116503    Wednesday\n",
       "229332    Wednesday\n",
       "73536     Wednesday\n",
       "            ...    \n",
       "180458    Wednesday\n",
       "252640    Wednesday\n",
       "177330    Wednesday\n",
       "16514     Wednesday\n",
       "337271    Wednesday\n",
       "Name: started_at, Length: 5733451, dtype: object"
      ]
     },
     "execution_count": 39,
     "metadata": {},
     "output_type": "execute_result"
    }
   ],
   "source": [
    "bike_data['started_at'].dt.day_name()"
   ]
  },
  {
   "cell_type": "markdown",
   "id": "55aacfe9",
   "metadata": {},
   "source": [
    "Let's name this column \"day_of_week\"."
   ]
  },
  {
   "cell_type": "code",
   "execution_count": 40,
   "id": "1b76102d",
   "metadata": {},
   "outputs": [],
   "source": [
    "bike_data[\"day_of_week\"] = bike_data['started_at'].dt.day_name()"
   ]
  },
  {
   "cell_type": "markdown",
   "id": "0f21eaee",
   "metadata": {},
   "source": [
    "Here's the updated data frame."
   ]
  },
  {
   "cell_type": "code",
   "execution_count": 41,
   "id": "c7d86814",
   "metadata": {
    "scrolled": true
   },
   "outputs": [
    {
     "data": {
      "text/html": [
       "<div>\n",
       "<style scoped>\n",
       "    .dataframe tbody tr th:only-of-type {\n",
       "        vertical-align: middle;\n",
       "    }\n",
       "\n",
       "    .dataframe tbody tr th {\n",
       "        vertical-align: top;\n",
       "    }\n",
       "\n",
       "    .dataframe thead th {\n",
       "        text-align: right;\n",
       "    }\n",
       "</style>\n",
       "<table border=\"1\" class=\"dataframe\">\n",
       "  <thead>\n",
       "    <tr style=\"text-align: right;\">\n",
       "      <th></th>\n",
       "      <th>ride_id</th>\n",
       "      <th>rideable_type</th>\n",
       "      <th>started_at</th>\n",
       "      <th>ended_at</th>\n",
       "      <th>start_station_name</th>\n",
       "      <th>start_station_id</th>\n",
       "      <th>end_station_name</th>\n",
       "      <th>end_station_id</th>\n",
       "      <th>start_lat</th>\n",
       "      <th>start_lng</th>\n",
       "      <th>end_lat</th>\n",
       "      <th>end_lng</th>\n",
       "      <th>member_casual</th>\n",
       "      <th>ride_length</th>\n",
       "      <th>day_of_week</th>\n",
       "    </tr>\n",
       "  </thead>\n",
       "  <tbody>\n",
       "    <tr>\n",
       "      <th>242975</th>\n",
       "      <td>937DC7C2109D635C</td>\n",
       "      <td>electric_bike</td>\n",
       "      <td>2021-12-01 00:00:01</td>\n",
       "      <td>2021-12-01 00:23:16</td>\n",
       "      <td>NaN</td>\n",
       "      <td>NaN</td>\n",
       "      <td>NaN</td>\n",
       "      <td>NaN</td>\n",
       "      <td>41.930000</td>\n",
       "      <td>-87.730000</td>\n",
       "      <td>41.880000</td>\n",
       "      <td>-87.710000</td>\n",
       "      <td>casual</td>\n",
       "      <td>0 days 00:23:15</td>\n",
       "      <td>Wednesday</td>\n",
       "    </tr>\n",
       "    <tr>\n",
       "      <th>182646</th>\n",
       "      <td>0CD83C3FE35E69A0</td>\n",
       "      <td>classic_bike</td>\n",
       "      <td>2021-12-01 00:00:03</td>\n",
       "      <td>2021-12-01 00:07:34</td>\n",
       "      <td>State St &amp; Kinzie St</td>\n",
       "      <td>13050</td>\n",
       "      <td>St. Clair St &amp; Erie St</td>\n",
       "      <td>13016</td>\n",
       "      <td>41.889187</td>\n",
       "      <td>-87.627754</td>\n",
       "      <td>41.894345</td>\n",
       "      <td>-87.622798</td>\n",
       "      <td>casual</td>\n",
       "      <td>0 days 00:07:31</td>\n",
       "      <td>Wednesday</td>\n",
       "    </tr>\n",
       "    <tr>\n",
       "      <th>116503</th>\n",
       "      <td>FC2D02B730EBC33D</td>\n",
       "      <td>electric_bike</td>\n",
       "      <td>2021-12-01 00:00:15</td>\n",
       "      <td>2021-12-01 00:02:40</td>\n",
       "      <td>Wells St &amp; Huron St</td>\n",
       "      <td>TA1306000012</td>\n",
       "      <td>NaN</td>\n",
       "      <td>NaN</td>\n",
       "      <td>41.894763</td>\n",
       "      <td>-87.634595</td>\n",
       "      <td>41.900000</td>\n",
       "      <td>-87.640000</td>\n",
       "      <td>member</td>\n",
       "      <td>0 days 00:02:25</td>\n",
       "      <td>Wednesday</td>\n",
       "    </tr>\n",
       "    <tr>\n",
       "      <th>229332</th>\n",
       "      <td>227558BB46C7DE48</td>\n",
       "      <td>electric_bike</td>\n",
       "      <td>2021-12-01 00:01:00</td>\n",
       "      <td>2021-12-01 00:05:29</td>\n",
       "      <td>NaN</td>\n",
       "      <td>NaN</td>\n",
       "      <td>NaN</td>\n",
       "      <td>NaN</td>\n",
       "      <td>41.790000</td>\n",
       "      <td>-87.600000</td>\n",
       "      <td>41.800000</td>\n",
       "      <td>-87.600000</td>\n",
       "      <td>member</td>\n",
       "      <td>0 days 00:04:29</td>\n",
       "      <td>Wednesday</td>\n",
       "    </tr>\n",
       "    <tr>\n",
       "      <th>73536</th>\n",
       "      <td>5CB387082B4310B2</td>\n",
       "      <td>classic_bike</td>\n",
       "      <td>2021-12-01 00:03:44</td>\n",
       "      <td>2021-12-01 00:07:44</td>\n",
       "      <td>Ellis Ave &amp; 60th St</td>\n",
       "      <td>KA1503000014</td>\n",
       "      <td>University Ave &amp; 57th St</td>\n",
       "      <td>KA1503000071</td>\n",
       "      <td>41.785097</td>\n",
       "      <td>-87.601073</td>\n",
       "      <td>41.791478</td>\n",
       "      <td>-87.599861</td>\n",
       "      <td>member</td>\n",
       "      <td>0 days 00:04:00</td>\n",
       "      <td>Wednesday</td>\n",
       "    </tr>\n",
       "    <tr>\n",
       "      <th>...</th>\n",
       "      <td>...</td>\n",
       "      <td>...</td>\n",
       "      <td>...</td>\n",
       "      <td>...</td>\n",
       "      <td>...</td>\n",
       "      <td>...</td>\n",
       "      <td>...</td>\n",
       "      <td>...</td>\n",
       "      <td>...</td>\n",
       "      <td>...</td>\n",
       "      <td>...</td>\n",
       "      <td>...</td>\n",
       "      <td>...</td>\n",
       "      <td>...</td>\n",
       "      <td>...</td>\n",
       "    </tr>\n",
       "    <tr>\n",
       "      <th>180458</th>\n",
       "      <td>CB5ECCA9D1567A45</td>\n",
       "      <td>electric_bike</td>\n",
       "      <td>2022-11-30 23:54:40</td>\n",
       "      <td>2022-11-30 23:58:59</td>\n",
       "      <td>State St &amp; Van Buren St</td>\n",
       "      <td>TA1305000035</td>\n",
       "      <td>Michigan Ave &amp; 14th St</td>\n",
       "      <td>TA1307000124</td>\n",
       "      <td>41.877238</td>\n",
       "      <td>-87.627823</td>\n",
       "      <td>41.864059</td>\n",
       "      <td>-87.623727</td>\n",
       "      <td>member</td>\n",
       "      <td>0 days 00:04:19</td>\n",
       "      <td>Wednesday</td>\n",
       "    </tr>\n",
       "    <tr>\n",
       "      <th>252640</th>\n",
       "      <td>DD58003A0A0C9FE4</td>\n",
       "      <td>electric_bike</td>\n",
       "      <td>2022-11-30 23:54:46</td>\n",
       "      <td>2022-11-30 23:59:23</td>\n",
       "      <td>NaN</td>\n",
       "      <td>NaN</td>\n",
       "      <td>NaN</td>\n",
       "      <td>NaN</td>\n",
       "      <td>41.980000</td>\n",
       "      <td>-87.660000</td>\n",
       "      <td>41.970000</td>\n",
       "      <td>-87.650000</td>\n",
       "      <td>member</td>\n",
       "      <td>0 days 00:04:37</td>\n",
       "      <td>Wednesday</td>\n",
       "    </tr>\n",
       "    <tr>\n",
       "      <th>177330</th>\n",
       "      <td>0A7F3F32FCC736D1</td>\n",
       "      <td>classic_bike</td>\n",
       "      <td>2022-11-30 23:55:02</td>\n",
       "      <td>2022-12-01 00:21:10</td>\n",
       "      <td>McClurg Ct &amp; Ohio St</td>\n",
       "      <td>TA1306000029</td>\n",
       "      <td>Sheffield Ave &amp; Fullerton Ave</td>\n",
       "      <td>TA1306000016</td>\n",
       "      <td>41.892592</td>\n",
       "      <td>-87.617289</td>\n",
       "      <td>41.925602</td>\n",
       "      <td>-87.653708</td>\n",
       "      <td>member</td>\n",
       "      <td>0 days 00:26:08</td>\n",
       "      <td>Wednesday</td>\n",
       "    </tr>\n",
       "    <tr>\n",
       "      <th>16514</th>\n",
       "      <td>C32D3E0585F38636</td>\n",
       "      <td>electric_bike</td>\n",
       "      <td>2022-11-30 23:55:28</td>\n",
       "      <td>2022-11-30 23:59:46</td>\n",
       "      <td>Broadway &amp; Cornelia Ave</td>\n",
       "      <td>13278</td>\n",
       "      <td>Clarendon Ave &amp; Gordon Ter</td>\n",
       "      <td>13379</td>\n",
       "      <td>41.945466</td>\n",
       "      <td>-87.646343</td>\n",
       "      <td>41.957867</td>\n",
       "      <td>-87.649505</td>\n",
       "      <td>member</td>\n",
       "      <td>0 days 00:04:18</td>\n",
       "      <td>Wednesday</td>\n",
       "    </tr>\n",
       "    <tr>\n",
       "      <th>337271</th>\n",
       "      <td>F6BE77C9DC9AB3BC</td>\n",
       "      <td>electric_bike</td>\n",
       "      <td>2022-11-30 23:56:11</td>\n",
       "      <td>2022-12-01 00:00:52</td>\n",
       "      <td>Clark St &amp; Winnemac Ave</td>\n",
       "      <td>TA1309000035</td>\n",
       "      <td>Broadway &amp; Ridge Ave</td>\n",
       "      <td>15578</td>\n",
       "      <td>41.973391</td>\n",
       "      <td>-87.667762</td>\n",
       "      <td>41.984045</td>\n",
       "      <td>-87.660274</td>\n",
       "      <td>casual</td>\n",
       "      <td>0 days 00:04:41</td>\n",
       "      <td>Wednesday</td>\n",
       "    </tr>\n",
       "  </tbody>\n",
       "</table>\n",
       "<p>5733451 rows × 15 columns</p>\n",
       "</div>"
      ],
      "text/plain": [
       "                 ride_id  rideable_type          started_at  \\\n",
       "242975  937DC7C2109D635C  electric_bike 2021-12-01 00:00:01   \n",
       "182646  0CD83C3FE35E69A0   classic_bike 2021-12-01 00:00:03   \n",
       "116503  FC2D02B730EBC33D  electric_bike 2021-12-01 00:00:15   \n",
       "229332  227558BB46C7DE48  electric_bike 2021-12-01 00:01:00   \n",
       "73536   5CB387082B4310B2   classic_bike 2021-12-01 00:03:44   \n",
       "...                  ...            ...                 ...   \n",
       "180458  CB5ECCA9D1567A45  electric_bike 2022-11-30 23:54:40   \n",
       "252640  DD58003A0A0C9FE4  electric_bike 2022-11-30 23:54:46   \n",
       "177330  0A7F3F32FCC736D1   classic_bike 2022-11-30 23:55:02   \n",
       "16514   C32D3E0585F38636  electric_bike 2022-11-30 23:55:28   \n",
       "337271  F6BE77C9DC9AB3BC  electric_bike 2022-11-30 23:56:11   \n",
       "\n",
       "                  ended_at       start_station_name start_station_id  \\\n",
       "242975 2021-12-01 00:23:16                      NaN              NaN   \n",
       "182646 2021-12-01 00:07:34     State St & Kinzie St            13050   \n",
       "116503 2021-12-01 00:02:40      Wells St & Huron St     TA1306000012   \n",
       "229332 2021-12-01 00:05:29                      NaN              NaN   \n",
       "73536  2021-12-01 00:07:44      Ellis Ave & 60th St     KA1503000014   \n",
       "...                    ...                      ...              ...   \n",
       "180458 2022-11-30 23:58:59  State St & Van Buren St     TA1305000035   \n",
       "252640 2022-11-30 23:59:23                      NaN              NaN   \n",
       "177330 2022-12-01 00:21:10     McClurg Ct & Ohio St     TA1306000029   \n",
       "16514  2022-11-30 23:59:46  Broadway & Cornelia Ave            13278   \n",
       "337271 2022-12-01 00:00:52  Clark St & Winnemac Ave     TA1309000035   \n",
       "\n",
       "                     end_station_name end_station_id  start_lat  start_lng  \\\n",
       "242975                            NaN            NaN  41.930000 -87.730000   \n",
       "182646         St. Clair St & Erie St          13016  41.889187 -87.627754   \n",
       "116503                            NaN            NaN  41.894763 -87.634595   \n",
       "229332                            NaN            NaN  41.790000 -87.600000   \n",
       "73536        University Ave & 57th St   KA1503000071  41.785097 -87.601073   \n",
       "...                               ...            ...        ...        ...   \n",
       "180458         Michigan Ave & 14th St   TA1307000124  41.877238 -87.627823   \n",
       "252640                            NaN            NaN  41.980000 -87.660000   \n",
       "177330  Sheffield Ave & Fullerton Ave   TA1306000016  41.892592 -87.617289   \n",
       "16514      Clarendon Ave & Gordon Ter          13379  41.945466 -87.646343   \n",
       "337271           Broadway & Ridge Ave          15578  41.973391 -87.667762   \n",
       "\n",
       "          end_lat    end_lng member_casual     ride_length day_of_week  \n",
       "242975  41.880000 -87.710000        casual 0 days 00:23:15   Wednesday  \n",
       "182646  41.894345 -87.622798        casual 0 days 00:07:31   Wednesday  \n",
       "116503  41.900000 -87.640000        member 0 days 00:02:25   Wednesday  \n",
       "229332  41.800000 -87.600000        member 0 days 00:04:29   Wednesday  \n",
       "73536   41.791478 -87.599861        member 0 days 00:04:00   Wednesday  \n",
       "...           ...        ...           ...             ...         ...  \n",
       "180458  41.864059 -87.623727        member 0 days 00:04:19   Wednesday  \n",
       "252640  41.970000 -87.650000        member 0 days 00:04:37   Wednesday  \n",
       "177330  41.925602 -87.653708        member 0 days 00:26:08   Wednesday  \n",
       "16514   41.957867 -87.649505        member 0 days 00:04:18   Wednesday  \n",
       "337271  41.984045 -87.660274        casual 0 days 00:04:41   Wednesday  \n",
       "\n",
       "[5733451 rows x 15 columns]"
      ]
     },
     "execution_count": 41,
     "metadata": {},
     "output_type": "execute_result"
    }
   ],
   "source": [
    "bike_data"
   ]
  },
  {
   "cell_type": "markdown",
   "id": "e1e10ebf",
   "metadata": {},
   "source": [
    "Now let's clean the data more. We need to remove any rows in which the ride length is less than or equal to zero seconds because a ride length less than zero does not make any sense in this context, and a ride length of zero seconds can't happen. The following command let's us drop these rows."
   ]
  },
  {
   "cell_type": "code",
   "execution_count": 48,
   "id": "e107ff34",
   "metadata": {},
   "outputs": [],
   "source": [
    "bike_data = bike_data.drop(bike_data[~(bike_data[\"ride_length\"] > \"0 days\")].index)"
   ]
  },
  {
   "cell_type": "code",
   "execution_count": 49,
   "id": "0f00c0b6",
   "metadata": {
    "scrolled": false
   },
   "outputs": [
    {
     "data": {
      "text/html": [
       "<div>\n",
       "<style scoped>\n",
       "    .dataframe tbody tr th:only-of-type {\n",
       "        vertical-align: middle;\n",
       "    }\n",
       "\n",
       "    .dataframe tbody tr th {\n",
       "        vertical-align: top;\n",
       "    }\n",
       "\n",
       "    .dataframe thead th {\n",
       "        text-align: right;\n",
       "    }\n",
       "</style>\n",
       "<table border=\"1\" class=\"dataframe\">\n",
       "  <thead>\n",
       "    <tr style=\"text-align: right;\">\n",
       "      <th></th>\n",
       "      <th>ride_id</th>\n",
       "      <th>rideable_type</th>\n",
       "      <th>started_at</th>\n",
       "      <th>ended_at</th>\n",
       "      <th>start_station_name</th>\n",
       "      <th>start_station_id</th>\n",
       "      <th>end_station_name</th>\n",
       "      <th>end_station_id</th>\n",
       "      <th>start_lat</th>\n",
       "      <th>start_lng</th>\n",
       "      <th>end_lat</th>\n",
       "      <th>end_lng</th>\n",
       "      <th>member_casual</th>\n",
       "      <th>ride_length</th>\n",
       "      <th>day_of_week</th>\n",
       "    </tr>\n",
       "  </thead>\n",
       "  <tbody>\n",
       "    <tr>\n",
       "      <th>242975</th>\n",
       "      <td>937DC7C2109D635C</td>\n",
       "      <td>electric_bike</td>\n",
       "      <td>2021-12-01 00:00:01</td>\n",
       "      <td>2021-12-01 00:23:16</td>\n",
       "      <td>NaN</td>\n",
       "      <td>NaN</td>\n",
       "      <td>NaN</td>\n",
       "      <td>NaN</td>\n",
       "      <td>41.930000</td>\n",
       "      <td>-87.730000</td>\n",
       "      <td>41.880000</td>\n",
       "      <td>-87.710000</td>\n",
       "      <td>casual</td>\n",
       "      <td>0 days 00:23:15</td>\n",
       "      <td>Wednesday</td>\n",
       "    </tr>\n",
       "    <tr>\n",
       "      <th>182646</th>\n",
       "      <td>0CD83C3FE35E69A0</td>\n",
       "      <td>classic_bike</td>\n",
       "      <td>2021-12-01 00:00:03</td>\n",
       "      <td>2021-12-01 00:07:34</td>\n",
       "      <td>State St &amp; Kinzie St</td>\n",
       "      <td>13050</td>\n",
       "      <td>St. Clair St &amp; Erie St</td>\n",
       "      <td>13016</td>\n",
       "      <td>41.889187</td>\n",
       "      <td>-87.627754</td>\n",
       "      <td>41.894345</td>\n",
       "      <td>-87.622798</td>\n",
       "      <td>casual</td>\n",
       "      <td>0 days 00:07:31</td>\n",
       "      <td>Wednesday</td>\n",
       "    </tr>\n",
       "    <tr>\n",
       "      <th>116503</th>\n",
       "      <td>FC2D02B730EBC33D</td>\n",
       "      <td>electric_bike</td>\n",
       "      <td>2021-12-01 00:00:15</td>\n",
       "      <td>2021-12-01 00:02:40</td>\n",
       "      <td>Wells St &amp; Huron St</td>\n",
       "      <td>TA1306000012</td>\n",
       "      <td>NaN</td>\n",
       "      <td>NaN</td>\n",
       "      <td>41.894763</td>\n",
       "      <td>-87.634595</td>\n",
       "      <td>41.900000</td>\n",
       "      <td>-87.640000</td>\n",
       "      <td>member</td>\n",
       "      <td>0 days 00:02:25</td>\n",
       "      <td>Wednesday</td>\n",
       "    </tr>\n",
       "    <tr>\n",
       "      <th>229332</th>\n",
       "      <td>227558BB46C7DE48</td>\n",
       "      <td>electric_bike</td>\n",
       "      <td>2021-12-01 00:01:00</td>\n",
       "      <td>2021-12-01 00:05:29</td>\n",
       "      <td>NaN</td>\n",
       "      <td>NaN</td>\n",
       "      <td>NaN</td>\n",
       "      <td>NaN</td>\n",
       "      <td>41.790000</td>\n",
       "      <td>-87.600000</td>\n",
       "      <td>41.800000</td>\n",
       "      <td>-87.600000</td>\n",
       "      <td>member</td>\n",
       "      <td>0 days 00:04:29</td>\n",
       "      <td>Wednesday</td>\n",
       "    </tr>\n",
       "    <tr>\n",
       "      <th>73536</th>\n",
       "      <td>5CB387082B4310B2</td>\n",
       "      <td>classic_bike</td>\n",
       "      <td>2021-12-01 00:03:44</td>\n",
       "      <td>2021-12-01 00:07:44</td>\n",
       "      <td>Ellis Ave &amp; 60th St</td>\n",
       "      <td>KA1503000014</td>\n",
       "      <td>University Ave &amp; 57th St</td>\n",
       "      <td>KA1503000071</td>\n",
       "      <td>41.785097</td>\n",
       "      <td>-87.601073</td>\n",
       "      <td>41.791478</td>\n",
       "      <td>-87.599861</td>\n",
       "      <td>member</td>\n",
       "      <td>0 days 00:04:00</td>\n",
       "      <td>Wednesday</td>\n",
       "    </tr>\n",
       "    <tr>\n",
       "      <th>...</th>\n",
       "      <td>...</td>\n",
       "      <td>...</td>\n",
       "      <td>...</td>\n",
       "      <td>...</td>\n",
       "      <td>...</td>\n",
       "      <td>...</td>\n",
       "      <td>...</td>\n",
       "      <td>...</td>\n",
       "      <td>...</td>\n",
       "      <td>...</td>\n",
       "      <td>...</td>\n",
       "      <td>...</td>\n",
       "      <td>...</td>\n",
       "      <td>...</td>\n",
       "      <td>...</td>\n",
       "    </tr>\n",
       "    <tr>\n",
       "      <th>180458</th>\n",
       "      <td>CB5ECCA9D1567A45</td>\n",
       "      <td>electric_bike</td>\n",
       "      <td>2022-11-30 23:54:40</td>\n",
       "      <td>2022-11-30 23:58:59</td>\n",
       "      <td>State St &amp; Van Buren St</td>\n",
       "      <td>TA1305000035</td>\n",
       "      <td>Michigan Ave &amp; 14th St</td>\n",
       "      <td>TA1307000124</td>\n",
       "      <td>41.877238</td>\n",
       "      <td>-87.627823</td>\n",
       "      <td>41.864059</td>\n",
       "      <td>-87.623727</td>\n",
       "      <td>member</td>\n",
       "      <td>0 days 00:04:19</td>\n",
       "      <td>Wednesday</td>\n",
       "    </tr>\n",
       "    <tr>\n",
       "      <th>252640</th>\n",
       "      <td>DD58003A0A0C9FE4</td>\n",
       "      <td>electric_bike</td>\n",
       "      <td>2022-11-30 23:54:46</td>\n",
       "      <td>2022-11-30 23:59:23</td>\n",
       "      <td>NaN</td>\n",
       "      <td>NaN</td>\n",
       "      <td>NaN</td>\n",
       "      <td>NaN</td>\n",
       "      <td>41.980000</td>\n",
       "      <td>-87.660000</td>\n",
       "      <td>41.970000</td>\n",
       "      <td>-87.650000</td>\n",
       "      <td>member</td>\n",
       "      <td>0 days 00:04:37</td>\n",
       "      <td>Wednesday</td>\n",
       "    </tr>\n",
       "    <tr>\n",
       "      <th>177330</th>\n",
       "      <td>0A7F3F32FCC736D1</td>\n",
       "      <td>classic_bike</td>\n",
       "      <td>2022-11-30 23:55:02</td>\n",
       "      <td>2022-12-01 00:21:10</td>\n",
       "      <td>McClurg Ct &amp; Ohio St</td>\n",
       "      <td>TA1306000029</td>\n",
       "      <td>Sheffield Ave &amp; Fullerton Ave</td>\n",
       "      <td>TA1306000016</td>\n",
       "      <td>41.892592</td>\n",
       "      <td>-87.617289</td>\n",
       "      <td>41.925602</td>\n",
       "      <td>-87.653708</td>\n",
       "      <td>member</td>\n",
       "      <td>0 days 00:26:08</td>\n",
       "      <td>Wednesday</td>\n",
       "    </tr>\n",
       "    <tr>\n",
       "      <th>16514</th>\n",
       "      <td>C32D3E0585F38636</td>\n",
       "      <td>electric_bike</td>\n",
       "      <td>2022-11-30 23:55:28</td>\n",
       "      <td>2022-11-30 23:59:46</td>\n",
       "      <td>Broadway &amp; Cornelia Ave</td>\n",
       "      <td>13278</td>\n",
       "      <td>Clarendon Ave &amp; Gordon Ter</td>\n",
       "      <td>13379</td>\n",
       "      <td>41.945466</td>\n",
       "      <td>-87.646343</td>\n",
       "      <td>41.957867</td>\n",
       "      <td>-87.649505</td>\n",
       "      <td>member</td>\n",
       "      <td>0 days 00:04:18</td>\n",
       "      <td>Wednesday</td>\n",
       "    </tr>\n",
       "    <tr>\n",
       "      <th>337271</th>\n",
       "      <td>F6BE77C9DC9AB3BC</td>\n",
       "      <td>electric_bike</td>\n",
       "      <td>2022-11-30 23:56:11</td>\n",
       "      <td>2022-12-01 00:00:52</td>\n",
       "      <td>Clark St &amp; Winnemac Ave</td>\n",
       "      <td>TA1309000035</td>\n",
       "      <td>Broadway &amp; Ridge Ave</td>\n",
       "      <td>15578</td>\n",
       "      <td>41.973391</td>\n",
       "      <td>-87.667762</td>\n",
       "      <td>41.984045</td>\n",
       "      <td>-87.660274</td>\n",
       "      <td>casual</td>\n",
       "      <td>0 days 00:04:41</td>\n",
       "      <td>Wednesday</td>\n",
       "    </tr>\n",
       "  </tbody>\n",
       "</table>\n",
       "<p>5729103 rows × 15 columns</p>\n",
       "</div>"
      ],
      "text/plain": [
       "                 ride_id  rideable_type          started_at  \\\n",
       "242975  937DC7C2109D635C  electric_bike 2021-12-01 00:00:01   \n",
       "182646  0CD83C3FE35E69A0   classic_bike 2021-12-01 00:00:03   \n",
       "116503  FC2D02B730EBC33D  electric_bike 2021-12-01 00:00:15   \n",
       "229332  227558BB46C7DE48  electric_bike 2021-12-01 00:01:00   \n",
       "73536   5CB387082B4310B2   classic_bike 2021-12-01 00:03:44   \n",
       "...                  ...            ...                 ...   \n",
       "180458  CB5ECCA9D1567A45  electric_bike 2022-11-30 23:54:40   \n",
       "252640  DD58003A0A0C9FE4  electric_bike 2022-11-30 23:54:46   \n",
       "177330  0A7F3F32FCC736D1   classic_bike 2022-11-30 23:55:02   \n",
       "16514   C32D3E0585F38636  electric_bike 2022-11-30 23:55:28   \n",
       "337271  F6BE77C9DC9AB3BC  electric_bike 2022-11-30 23:56:11   \n",
       "\n",
       "                  ended_at       start_station_name start_station_id  \\\n",
       "242975 2021-12-01 00:23:16                      NaN              NaN   \n",
       "182646 2021-12-01 00:07:34     State St & Kinzie St            13050   \n",
       "116503 2021-12-01 00:02:40      Wells St & Huron St     TA1306000012   \n",
       "229332 2021-12-01 00:05:29                      NaN              NaN   \n",
       "73536  2021-12-01 00:07:44      Ellis Ave & 60th St     KA1503000014   \n",
       "...                    ...                      ...              ...   \n",
       "180458 2022-11-30 23:58:59  State St & Van Buren St     TA1305000035   \n",
       "252640 2022-11-30 23:59:23                      NaN              NaN   \n",
       "177330 2022-12-01 00:21:10     McClurg Ct & Ohio St     TA1306000029   \n",
       "16514  2022-11-30 23:59:46  Broadway & Cornelia Ave            13278   \n",
       "337271 2022-12-01 00:00:52  Clark St & Winnemac Ave     TA1309000035   \n",
       "\n",
       "                     end_station_name end_station_id  start_lat  start_lng  \\\n",
       "242975                            NaN            NaN  41.930000 -87.730000   \n",
       "182646         St. Clair St & Erie St          13016  41.889187 -87.627754   \n",
       "116503                            NaN            NaN  41.894763 -87.634595   \n",
       "229332                            NaN            NaN  41.790000 -87.600000   \n",
       "73536        University Ave & 57th St   KA1503000071  41.785097 -87.601073   \n",
       "...                               ...            ...        ...        ...   \n",
       "180458         Michigan Ave & 14th St   TA1307000124  41.877238 -87.627823   \n",
       "252640                            NaN            NaN  41.980000 -87.660000   \n",
       "177330  Sheffield Ave & Fullerton Ave   TA1306000016  41.892592 -87.617289   \n",
       "16514      Clarendon Ave & Gordon Ter          13379  41.945466 -87.646343   \n",
       "337271           Broadway & Ridge Ave          15578  41.973391 -87.667762   \n",
       "\n",
       "          end_lat    end_lng member_casual     ride_length day_of_week  \n",
       "242975  41.880000 -87.710000        casual 0 days 00:23:15   Wednesday  \n",
       "182646  41.894345 -87.622798        casual 0 days 00:07:31   Wednesday  \n",
       "116503  41.900000 -87.640000        member 0 days 00:02:25   Wednesday  \n",
       "229332  41.800000 -87.600000        member 0 days 00:04:29   Wednesday  \n",
       "73536   41.791478 -87.599861        member 0 days 00:04:00   Wednesday  \n",
       "...           ...        ...           ...             ...         ...  \n",
       "180458  41.864059 -87.623727        member 0 days 00:04:19   Wednesday  \n",
       "252640  41.970000 -87.650000        member 0 days 00:04:37   Wednesday  \n",
       "177330  41.925602 -87.653708        member 0 days 00:26:08   Wednesday  \n",
       "16514   41.957867 -87.649505        member 0 days 00:04:18   Wednesday  \n",
       "337271  41.984045 -87.660274        casual 0 days 00:04:41   Wednesday  \n",
       "\n",
       "[5729103 rows x 15 columns]"
      ]
     },
     "execution_count": 49,
     "metadata": {},
     "output_type": "execute_result"
    }
   ],
   "source": [
    "bike_data"
   ]
  },
  {
   "cell_type": "code",
   "execution_count": 50,
   "id": "6d034629",
   "metadata": {
    "scrolled": true
   },
   "outputs": [
    {
     "data": {
      "text/plain": [
       "Saturday     921356\n",
       "Thursday     853429\n",
       "Friday       816810\n",
       "Wednesday    816518\n",
       "Tuesday      782121\n",
       "Sunday       782045\n",
       "Monday       756824\n",
       "Name: day_of_week, dtype: int64"
      ]
     },
     "execution_count": 50,
     "metadata": {},
     "output_type": "execute_result"
    }
   ],
   "source": [
    "bike_data.day_of_week.value_counts()"
   ]
  },
  {
   "cell_type": "markdown",
   "id": "cf72f0ae",
   "metadata": {},
   "source": [
    "Our cleaned data set contains 5,729,103 rows."
   ]
  },
  {
   "cell_type": "markdown",
   "id": "84607da1",
   "metadata": {},
   "source": [
    "## Analyze"
   ]
  },
  {
   "cell_type": "markdown",
   "id": "93d8d24b",
   "metadata": {},
   "source": [
    "Export the data set into a CSV file, so that we can analyze it using SQL."
   ]
  },
  {
   "cell_type": "code",
   "execution_count": 51,
   "id": "8134d144",
   "metadata": {},
   "outputs": [],
   "source": [
    "bike_data.to_csv('bike_data.csv')"
   ]
  }
 ],
 "metadata": {
  "kernelspec": {
   "display_name": "Python 3 (ipykernel)",
   "language": "python",
   "name": "python3"
  },
  "language_info": {
   "codemirror_mode": {
    "name": "ipython",
    "version": 3
   },
   "file_extension": ".py",
   "mimetype": "text/x-python",
   "name": "python",
   "nbconvert_exporter": "python",
   "pygments_lexer": "ipython3",
   "version": "3.9.7"
  }
 },
 "nbformat": 4,
 "nbformat_minor": 5
}
